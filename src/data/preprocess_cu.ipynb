{
 "cells": [
  {
   "cell_type": "code",
   "execution_count": 63,
   "metadata": {},
   "outputs": [],
   "source": [
    "import json\n",
    "import os"
   ]
  },
  {
   "cell_type": "code",
   "execution_count": 85,
   "metadata": {},
   "outputs": [],
   "source": [
    "def extract_paper(file_location, year):\n",
    "    with open(file_location) as json_data:\n",
    "        d = json.load(json_data)\n",
    "    title = d['abstracts-retrieval-response']['item']['bibrecord']['head']['citation-title']\n",
    "    author_group = d['abstracts-retrieval-response']['item']['bibrecord']['head']['author-group']\n",
    "\n",
    "\n",
    "    #each affiliation has multiple authors\n",
    "    author_list = []\n",
    "    if isinstance(author_group, list):\n",
    "        for i in author_group: #iterate through each affiliation\n",
    "            affiliation = i['affiliation']['country']\n",
    "            \n",
    "            if isinstance(i['author'], list):\n",
    "                for j in i['author']:\n",
    "                    author = j['ce:given-name']\n",
    "                    author_list.push_back({'author': author, 'affiliation': affiliation})\n",
    "            else:\n",
    "                author = i['author']['ce:given-name']\n",
    "                author_list.push_back({'author': author, 'affiliation': affiliation})\n",
    "    else:\n",
    "        affiliation = author_group['affiliation']['country']\n",
    "        if isinstance(author_group['author'], list):\n",
    "            for j in author_group['author']:\n",
    "                author = j['ce:given-name']\n",
    "                author_list.push_back({'author': author, 'affiliation': affiliation})\n",
    "        else:\n",
    "            author = author_group['author']['ce:given-name']\n",
    "            author_list.push_back({'author': author, 'affiliation': affiliation})\n",
    "    \n",
    "    # if isinstance(author_group, list):\n",
    "    #     for i in author_group:\n",
    "    #         item = i['ce:given-name']\n",
    "    #         author_list.add(item)\n",
    "    # else:\n",
    "    #     author_list.add(author_group['ce:given-name'])\n",
    "    #         # author_list.append({x['ce:given-name'],i['affiliation']['country']})\n",
    "    \n",
    "    # if isinstance(affiliation, list):\n",
    "    #     for i in affiliation:\n",
    "    #         affiliation_list.add(i['affiliation-country'])\n",
    "    # else:\n",
    "    #     affiliation_list.add(affiliation['affiliation-country'])\n",
    "    \n",
    "    \n",
    "    \n",
    "    \n",
    "    \n",
    "    \n",
    "   \n",
    "\n",
    "\n",
    "    subjects = []\n",
    "    subject_area = d['abstracts-retrieval-response']['subject-areas']['subject-area']\n",
    "    for i in subject_area:\n",
    "        subjects.append(i['@code'])\n",
    "\n",
    "\n",
    "    # print(f'title: {title}')      \n",
    "    # print(f'author: {author_list}')\n",
    "    # print(f'subject code: {subjects}')\n",
    "\n",
    "    combined = {'title': title, \n",
    "                'author': list(author_list), \n",
    "                'subject code': subjects,\n",
    "                'cited_count': d['abstracts-retrieval-response']['coredata']['citedby-count'], \n",
    "                'year': year}\n",
    "    json_string = json.dumps(combined)\n",
    "    return json_string\n",
    "\n"
   ]
  },
  {
   "cell_type": "code",
   "execution_count": 84,
   "metadata": {},
   "outputs": [
    {
     "name": "stdout",
     "output_type": "stream",
     "text": [
      "201800000.json\n"
     ]
    },
    {
     "ename": "AttributeError",
     "evalue": "'list' object has no attribute 'add'",
     "output_type": "error",
     "traceback": [
      "\u001b[1;31m---------------------------------------------------------------------------\u001b[0m",
      "\u001b[1;31mAttributeError\u001b[0m                            Traceback (most recent call last)",
      "Cell \u001b[1;32mIn[84], line 6\u001b[0m\n\u001b[0;32m      4\u001b[0m \u001b[38;5;28;01mif\u001b[39;00m name\u001b[38;5;241m.\u001b[39mendswith(\u001b[38;5;124m'\u001b[39m\u001b[38;5;124m.json\u001b[39m\u001b[38;5;124m'\u001b[39m):\n\u001b[0;32m      5\u001b[0m     \u001b[38;5;28mprint\u001b[39m(name)\n\u001b[1;32m----> 6\u001b[0m     jsonString \u001b[38;5;241m=\u001b[39m \u001b[43mextract_paper\u001b[49m\u001b[43m(\u001b[49m\u001b[43mfile_location\u001b[49m\u001b[38;5;241;43m=\u001b[39;49m\u001b[38;5;124;43mf\u001b[39;49m\u001b[38;5;124;43m'\u001b[39;49m\u001b[38;5;132;43;01m{\u001b[39;49;00m\u001b[43mdirectory\u001b[49m\u001b[38;5;132;43;01m}\u001b[39;49;00m\u001b[38;5;124;43m/\u001b[39;49m\u001b[38;5;132;43;01m{\u001b[39;49;00m\u001b[43mname\u001b[49m\u001b[38;5;132;43;01m}\u001b[39;49;00m\u001b[38;5;124;43m'\u001b[39;49m\u001b[43m,\u001b[49m\u001b[43m \u001b[49m\u001b[43myear\u001b[49m\u001b[38;5;241;43m=\u001b[39;49m\u001b[43myear\u001b[49m\u001b[43m)\u001b[49m\n\u001b[0;32m      7\u001b[0m     \u001b[38;5;28mprint\u001b[39m(jsonString)\n",
      "Cell \u001b[1;32mIn[83], line 17\u001b[0m, in \u001b[0;36mextract_paper\u001b[1;34m(file_location, year)\u001b[0m\n\u001b[0;32m     15\u001b[0m     \u001b[38;5;28;01mfor\u001b[39;00m j \u001b[38;5;129;01min\u001b[39;00m i[\u001b[38;5;124m'\u001b[39m\u001b[38;5;124mauthor\u001b[39m\u001b[38;5;124m'\u001b[39m]:\n\u001b[0;32m     16\u001b[0m         author \u001b[38;5;241m=\u001b[39m j[\u001b[38;5;124m'\u001b[39m\u001b[38;5;124mce:given-name\u001b[39m\u001b[38;5;124m'\u001b[39m]\n\u001b[1;32m---> 17\u001b[0m         \u001b[43mauthor_list\u001b[49m\u001b[38;5;241;43m.\u001b[39;49m\u001b[43madd\u001b[49m({\u001b[38;5;124m'\u001b[39m\u001b[38;5;124mauthor\u001b[39m\u001b[38;5;124m'\u001b[39m: author, \u001b[38;5;124m'\u001b[39m\u001b[38;5;124maffiliation\u001b[39m\u001b[38;5;124m'\u001b[39m: affiliation})\n\u001b[0;32m     18\u001b[0m \u001b[38;5;28;01melse\u001b[39;00m:\n\u001b[0;32m     19\u001b[0m     author \u001b[38;5;241m=\u001b[39m i[\u001b[38;5;124m'\u001b[39m\u001b[38;5;124mauthor\u001b[39m\u001b[38;5;124m'\u001b[39m][\u001b[38;5;124m'\u001b[39m\u001b[38;5;124mce:given-name\u001b[39m\u001b[38;5;124m'\u001b[39m]\n",
      "\u001b[1;31mAttributeError\u001b[0m: 'list' object has no attribute 'add'"
     ]
    }
   ],
   "source": [
    "for year in range(2018,2024):\n",
    "    directory = f'../../data/cu_paper_data/{year}'\n",
    "    for name in os.listdir(directory):\n",
    "        if name.endswith('.json'):\n",
    "            print(name)\n",
    "            jsonString = extract_paper(file_location=f'{directory}/{name}', year=year)\n",
    "            print(jsonString)\n",
    "            "
   ]
  }
 ],
 "metadata": {
  "kernelspec": {
   "display_name": "dsde-cedt",
   "language": "python",
   "name": "python3"
  },
  "language_info": {
   "codemirror_mode": {
    "name": "ipython",
    "version": 3
   },
   "file_extension": ".py",
   "mimetype": "text/x-python",
   "name": "python",
   "nbconvert_exporter": "python",
   "pygments_lexer": "ipython3",
   "version": "3.12.7"
  }
 },
 "nbformat": 4,
 "nbformat_minor": 2
}
