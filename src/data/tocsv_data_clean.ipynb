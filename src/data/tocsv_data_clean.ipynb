{
 "cells": [
  {
   "cell_type": "code",
   "execution_count": 1,
   "metadata": {},
   "outputs": [],
   "source": [
    "from pymongo import MongoClient\n",
    "import pandas as pd\n",
    "import json\n",
    "import re\n",
    "import os\n",
    "import csv"
   ]
  },
  {
   "cell_type": "code",
   "execution_count": 3,
   "metadata": {},
   "outputs": [
    {
     "name": "stdout",
     "output_type": "stream",
     "text": [
      "Data has been saved to 'clean_cu_paper_data_pub.csv'\n"
     ]
    }
   ],
   "source": [
    "# Load the JSON data\n",
    "data_src = 'cu_paper_data_pub.json'\n",
    "file_path = os.path.join('.', 'db-data', data_src)\n",
    "\n",
    "with open(file_path, 'r', encoding='utf-8') as file:\n",
    "    data = json.load(file)\n",
    "\n",
    "def eng_filter(text):\n",
    "    pattern = r'^[A-Za-z\\s.,-]+$'\n",
    "    return bool(re.match(pattern, text))\n",
    "\n",
    "result = []\n",
    "for publication in data:\n",
    "    if \"author_list\" in publication and publication[\"author_list\"]:\n",
    "        # base_affiliation = publication[\"author_list\"][0][\"affiliation\"]  (Use the first author's affiliation as the base)\n",
    "        if publication[\"subject code\"]:\n",
    "            for code in publication[\"subject code\"]:\n",
    "                cleaned_authors = [\n",
    "                    {\n",
    "                        \"title\": publication[\"title\"],\n",
    "                        \"name\": author[\"author\"],\n",
    "                        \"affiliation\": author[\"affiliation\"], \n",
    "                        \"subject_code\": code,  \n",
    "                        \"cited_count\": publication[\"cited_count\"],\n",
    "                        \"pub_type\": publication[\"publication_type\"],\n",
    "                        \"year\": publication[\"year\"]\n",
    "                    }\n",
    "                    for author in publication[\"author_list\"]\n",
    "                    if eng_filter(author[\"author\"]) \n",
    "                ]\n",
    "                result.extend(cleaned_authors)\n",
    "\n",
    "# Define the CSV file name\n",
    "csv_name = 'clean_cu_paper_data_pub.csv'\n",
    "keys = result[0].keys()\n",
    "\n",
    "# Write the flattened data to CSV\n",
    "with open(csv_name, 'w', newline='', encoding='utf-8') as csvfile:\n",
    "    writer = csv.DictWriter(csvfile, fieldnames=keys)\n",
    "    # Write header (field names)\n",
    "    writer.writeheader()\n",
    "    # Write data rows\n",
    "    writer.writerows(result)\n",
    "print(f\"Data has been saved to '{csv_name}'\")"
   ]
  }
 ],
 "metadata": {
  "kernelspec": {
   "display_name": "Python 3",
   "language": "python",
   "name": "python3"
  },
  "language_info": {
   "codemirror_mode": {
    "name": "ipython",
    "version": 3
   },
   "file_extension": ".py",
   "mimetype": "text/x-python",
   "name": "python",
   "nbconvert_exporter": "python",
   "pygments_lexer": "ipython3",
   "version": "3.11.4"
  }
 },
 "nbformat": 4,
 "nbformat_minor": 2
}
