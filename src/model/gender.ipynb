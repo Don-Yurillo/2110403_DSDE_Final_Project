{
 "cells": [
  {
   "cell_type": "code",
   "execution_count": 1,
   "metadata": {},
   "outputs": [],
   "source": [
    "from pyspark.sql import SparkSession\n",
    "import findspark\n",
    "\n",
    "findspark.init()\n",
    "spark = SparkSession.builder.appName(\"SparkSQL\").getOrCreate()\n"
   ]
  },
  {
   "cell_type": "code",
   "execution_count": 3,
   "metadata": {},
   "outputs": [],
   "source": [
    "import os\n",
    "import pymongo\n",
    "import pandas as pd\n",
    "from dotenv import load_dotenv\n",
    "load_dotenv('../../config/.env')\n",
    "mongo_uri = os.getenv('MONGO_URI')\n",
    "client = pymongo.MongoClient(f'{mongo_uri}')\n",
    "db = client['name']\n",
    "collection = db['thai_name']\n",
    "\n",
    "\n",
    "document = list(collection.find({},{ \"_id\": 0,}))\n",
    "client.close()\n",
    "\n"
   ]
  },
  {
   "cell_type": "markdown",
   "metadata": {},
   "source": [
    "ฺื**NOT USED**"
   ]
  },
  {
   "cell_type": "code",
   "execution_count": null,
   "metadata": {},
   "outputs": [
    {
     "data": {
      "text/html": [
       "<div>\n",
       "<style scoped>\n",
       "    .dataframe tbody tr th:only-of-type {\n",
       "        vertical-align: middle;\n",
       "    }\n",
       "\n",
       "    .dataframe tbody tr th {\n",
       "        vertical-align: top;\n",
       "    }\n",
       "\n",
       "    .dataframe thead th {\n",
       "        text-align: right;\n",
       "    }\n",
       "</style>\n",
       "<table border=\"1\" class=\"dataframe\">\n",
       "  <thead>\n",
       "    <tr style=\"text-align: right;\">\n",
       "      <th></th>\n",
       "      <th>name</th>\n",
       "      <th>gender</th>\n",
       "    </tr>\n",
       "  </thead>\n",
       "  <tbody>\n",
       "    <tr>\n",
       "      <th>0</th>\n",
       "      <td>Abduloh</td>\n",
       "      <td>m</td>\n",
       "    </tr>\n",
       "    <tr>\n",
       "      <th>1</th>\n",
       "      <td>Abdulrohman</td>\n",
       "      <td>m</td>\n",
       "    </tr>\n",
       "    <tr>\n",
       "      <th>2</th>\n",
       "      <td>Abdulroman</td>\n",
       "      <td>m</td>\n",
       "    </tr>\n",
       "    <tr>\n",
       "      <th>3</th>\n",
       "      <td>Abhisit</td>\n",
       "      <td>m</td>\n",
       "    </tr>\n",
       "    <tr>\n",
       "      <th>4</th>\n",
       "      <td>Achara</td>\n",
       "      <td>f</td>\n",
       "    </tr>\n",
       "  </tbody>\n",
       "</table>\n",
       "</div>"
      ],
      "text/plain": [
       "          name gender\n",
       "0      Abduloh      m\n",
       "1  Abdulrohman      m\n",
       "2   Abdulroman      m\n",
       "3      Abhisit      m\n",
       "4       Achara      f"
      ]
     },
     "metadata": {},
     "output_type": "display_data"
    },
    {
     "data": {
      "text/plain": [
       "0.5011990407673861"
      ]
     },
     "execution_count": 56,
     "metadata": {},
     "output_type": "execute_result"
    }
   ],
   "source": [
    "from sklearn.feature_extraction.text import CountVectorizer\n",
    "from sklearn.model_selection import train_test_split\n",
    "\n",
    "df = pd.DataFrame(document)\n",
    "df['gender'] = df['gender'].map({'f': 0, 'm': 1})\n",
    "\n",
    "cv = CountVectorizer()\n",
    "X = cv.fit_transform(df['name'].values.astype('U'))\n",
    "cv.get_feature_names_out()\n",
    "\n",
    "y = df['gender']\n",
    "\n",
    "X_train, X_test, y_train, y_test = train_test_split(X, y, test_size=0.2, random_state=42)\n",
    "\n",
    "from sklearn.naive_bayes import MultinomialNB\n",
    "nb = MultinomialNB()\n",
    "nb.fit(X_train, y_train)\n",
    "nb.score(X_test, y_test)\n",
    "\n",
    "\n"
   ]
  },
  {
   "cell_type": "markdown",
   "metadata": {},
   "source": [
    "Use this one, added Feature on Naive Bayes, will add pipeline and pickle later"
   ]
  },
  {
   "cell_type": "code",
   "execution_count": 108,
   "metadata": {},
   "outputs": [],
   "source": [
    "import numpy as np\n",
    "from sklearn.ensemble import RandomForestClassifier\n",
    "from sklearn.feature_extraction import DictVectorizer\n",
    "from sklearn.metrics import classification_report\n",
    "from sklearn.tree import DecisionTreeClassifier\n",
    "\n",
    "def features(name):\n",
    "    name = str(name)\n",
    "    name = name.lower()\n",
    "    return {\n",
    "        'first-letter': name[0],\n",
    "        'last-letter': name[-1],\n",
    "        'first2-letter': name[:2],\n",
    "        'last2-letter': name[-2:],\n",
    "        'first3-letter': name[:3],\n",
    "        'last3-letter': name[-3:],\n",
    "        \n",
    "    }\n",
    "    \n",
    "features = np.vectorize(features)\n",
    "\n",
    "df_X = features(df['name'])\n",
    "df_y = df['gender']\n",
    "\n",
    "\n",
    "\n",
    "# dv.fit(names_sample)\n",
    "# transformed = dv.transform(names_sample)\n",
    "# transformed.toarray()\n",
    "\n",
    "# dv.get_feature_names_out()\n",
    "\n",
    "X_train, X_test, y_train, y_test = train_test_split(df_X, df_y, test_size=0.3, random_state=2024)\n",
    "\n",
    "dv = DictVectorizer()\n",
    "dv.fit_transform(X_train)\n",
    "\n",
    "\n",
    "rf = RandomForestClassifier()\n",
    "rf.fit(dv.transform(X_train), y_train)\n",
    "rf.score(dv.transform(X_test), y_test)\n",
    "\n",
    "report = classification_report(y_test, rf.predict(dv.transform(X_test)))"
   ]
  },
  {
   "cell_type": "code",
   "execution_count": 109,
   "metadata": {},
   "outputs": [
    {
     "data": {
      "text/plain": [
       "array(['m', 'm', 'm', 'm', 'm', 'm', 'f', 'f', 'm', 'm'], dtype=object)"
      ]
     },
     "execution_count": 109,
     "metadata": {},
     "output_type": "execute_result"
    }
   ],
   "source": [
    "sample = ['Nithi', 'Rawit', 'Thamvarut', 'Pasit', 'Peeradon', 'Kittiphop', 'Nigga', 'Aranya', 'Kamon', 'Dao',]\n",
    "transform = dv.transform(features(sample)).toarray()\n",
    "rf.predict(transform)\n"
   ]
  },
  {
   "cell_type": "markdown",
   "metadata": {},
   "source": [
    "for pickle"
   ]
  },
  {
   "cell_type": "code",
   "execution_count": 130,
   "metadata": {},
   "outputs": [
    {
     "name": "stdout",
     "output_type": "stream",
     "text": [
      "name\n",
      "Abduloh       1\n",
      "Adsada        1\n",
      "Abdulroman    1\n",
      "Abhisit       1\n",
      "Achara        1\n",
      "             ..\n",
      "Yutthana      1\n",
      "Yutthasak     1\n",
      "Yutthasat     1\n",
      "Yuwadee       1\n",
      "Yuwadi        1\n",
      "Name: count, Length: 3151, dtype: int64\n",
      "              precision    recall  f1-score   support\n",
      "\n",
      "           f       0.82      0.82      0.82       240\n",
      "           m       0.89      0.89      0.89       391\n",
      "\n",
      "    accuracy                           0.87       631\n",
      "   macro avg       0.86      0.86      0.86       631\n",
      "weighted avg       0.87      0.87      0.87       631\n",
      "\n"
     ]
    }
   ],
   "source": [
    "import pickle\n",
    "from sklearn.pipeline import FunctionTransformer, Pipeline\n",
    "\n",
    "\n",
    "df = pd.DataFrame(document)\n",
    "df = df[~df['name'].duplicated(keep=False)]\n",
    "\n",
    "print(df['name'].value_counts().sort_values())\n",
    "\n",
    "def features(name):\n",
    "    name = str(name).lower()\n",
    "    return {\n",
    "        'first-letter': name[0],\n",
    "        'last-letter': name[-1],\n",
    "        'first2-letter': name[:2],\n",
    "        'last2-letter': name[-2:],\n",
    "        'first3-letter': name[:3],\n",
    "        'last3-letter': name[-3:]\n",
    "    }\n",
    "    \n",
    "X = df['name']\n",
    "y = df['gender']\n",
    "X_train, X_test, y_train, y_test = train_test_split(X,y, test_size=0.2)\n",
    "\n",
    "pipeline = Pipeline([\n",
    "    ('feature_extractor', FunctionTransformer(np.vectorize(features), validate=False)),\n",
    "    ('vectorizer', DictVectorizer()),\n",
    "    ('classifier', MultinomialNB())\n",
    "])\n",
    "\n",
    "pipeline.fit(X_train, y_train)\n",
    "\n",
    "y_pred = pipeline.predict(X_test)\n",
    "print(classification_report(y_test, y_pred))\n",
    "\n",
    "with open('thai_name_pipeline.pkl', 'wb') as f:\n",
    "    pickle.dump(pipeline, f)"
   ]
  },
  {
   "cell_type": "code",
   "execution_count": 135,
   "metadata": {},
   "outputs": [
    {
     "name": "stdout",
     "output_type": "stream",
     "text": [
      "['m' 'm' 'm' 'm' 'm' 'm' 'f' 'f' 'f' 'f']\n"
     ]
    }
   ],
   "source": [
    "with open('thai_name_pipeline.pkl', 'rb') as f:\n",
    "    load_pipe = pickle.load(f)\n",
    "    \n",
    "names = ['Nithi', 'Rawit', 'Thamvarut', 'Pasit', 'Peeradon', 'Kittiphop', 'Nigga', 'Aranya', 'Kamon', 'Dao',]\n",
    "\n",
    "report = load_pipe.predict(names)\n",
    "print(report)"
   ]
  }
 ],
 "metadata": {
  "kernelspec": {
   "display_name": "dsde-cedt",
   "language": "python",
   "name": "python3"
  },
  "language_info": {
   "codemirror_mode": {
    "name": "ipython",
    "version": 3
   },
   "file_extension": ".py",
   "mimetype": "text/x-python",
   "name": "python",
   "nbconvert_exporter": "python",
   "pygments_lexer": "ipython3",
   "version": "3.12.7"
  }
 },
 "nbformat": 4,
 "nbformat_minor": 2
}
