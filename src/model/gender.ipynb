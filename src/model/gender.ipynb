{
 "cells": [
  {
   "cell_type": "code",
   "execution_count": 151,
   "metadata": {},
   "outputs": [],
   "source": [
    "from pyspark.sql import SparkSession\n",
    "import findspark\n",
    "\n",
    "findspark.init()\n",
    "spark = SparkSession.builder.appName(\"SparkSQL\").getOrCreate()\n"
   ]
  },
  {
   "cell_type": "code",
   "execution_count": 17,
   "metadata": {},
   "outputs": [
    {
     "data": {
      "text/plain": [
       "(166850, 2)"
      ]
     },
     "execution_count": 17,
     "metadata": {},
     "output_type": "execute_result"
    }
   ],
   "source": [
    "import os\n",
    "import pymongo\n",
    "import pandas as pd\n",
    "from dotenv import load_dotenv\n",
    "load_dotenv('../../config/.env')\n",
    "mongo_uri = os.getenv('MONGO_URI')\n",
    "client = pymongo.MongoClient(f'{mongo_uri}')\n",
    "db = client['name']\n",
    "collection = db['india_name']\n",
    "\n",
    "\n",
    "document = list(collection.find({},{ \"_id\": 0,}))\n",
    "df = pd.DataFrame(document)\n",
    "\n",
    "collection = db['us_name']\n",
    "document = list(collection.find({},{ \"_id\": 0,}))\n",
    "df= pd.concat([df, pd.DataFrame(document)])\n",
    "\n",
    "collection = db['thai_name']\n",
    "document = list(collection.find({},{ \"_id\": 0,}))\n",
    "df= pd.concat([df, pd.DataFrame(document)])\n",
    "\n",
    "collection = db['china_name']\n",
    "document = list(collection.find({},{ \"_id\": 0,}))\n",
    "df= pd.concat([df, pd.DataFrame(document)])\n",
    "\n",
    "client.close()\n",
    "\n",
    "df.shape\n",
    "\n"
   ]
  },
  {
   "cell_type": "markdown",
   "metadata": {},
   "source": [
    "ฺื**NOT USED**"
   ]
  },
  {
   "cell_type": "code",
   "execution_count": 12,
   "metadata": {},
   "outputs": [
    {
     "data": {
      "text/plain": [
       "0.5785804816223067"
      ]
     },
     "execution_count": 12,
     "metadata": {},
     "output_type": "execute_result"
    }
   ],
   "source": [
    "from sklearn.feature_extraction.text import CountVectorizer\n",
    "from sklearn.model_selection import train_test_split\n",
    "\n",
    "df = pd.DataFrame(document)\n",
    "df['gender'] = df['gender'].map({'f': 0, 'm': 1})\n",
    "\n",
    "cv = CountVectorizer()\n",
    "X = cv.fit_transform(df['name'].values.astype('U'))\n",
    "cv.get_feature_names_out()\n",
    "\n",
    "y = df['gender']\n",
    "\n",
    "X_train, X_test, y_train, y_test = train_test_split(X, y, test_size=0.2, random_state=42)\n",
    "\n",
    "from sklearn.naive_bayes import MultinomialNB\n",
    "nb = MultinomialNB()\n",
    "nb.fit(X_train, y_train)\n",
    "nb.score(X_test, y_test)\n",
    "\n",
    "\n"
   ]
  },
  {
   "cell_type": "markdown",
   "metadata": {},
   "source": [
    "Use this one, added Feature on Naive Bayes, will add pipeline and pickle later"
   ]
  },
  {
   "cell_type": "code",
   "execution_count": null,
   "metadata": {},
   "outputs": [],
   "source": [
    "import numpy as np\n",
    "from sklearn.ensemble import RandomForestClassifier\n",
    "from sklearn.model_selection import train_test_split\n",
    "from sklearn.feature_extraction import DictVectorizer\n",
    "from sklearn.metrics import classification_report\n",
    "from sklearn.tree import DecisionTreeClassifier\n",
    "\n",
    "def features(name):\n",
    "    name = str(name)\n",
    "    name = name.lower()\n",
    "    return {\n",
    "        'first-letter': name[0],\n",
    "        'last-letter': name[-1],\n",
    "        'first2-letter': name[:2],\n",
    "        'last2-letter': name[-2:],\n",
    "        'first3-letter': name[:3],\n",
    "        'last3-letter': name[-3:],\n",
    "        \n",
    "    }\n",
    "    \n",
    "features = np.vectorize(features)\n",
    "\n",
    "df_X = features(df['name'])\n",
    "df_y = df['gender']\n",
    "\n",
    "\n",
    "\n",
    "# dv.fit(names_sample)\n",
    "# transformed = dv.transform(names_sample)\n",
    "# transformed.toarray()\n",
    "\n",
    "# dv.get_feature_names_out()\n",
    "\n",
    "X_train, X_test, y_train, y_test = train_test_split(df_X, df_y, test_size=0.3, random_state=2024)\n",
    "\n",
    "dv = DictVectorizer()\n",
    "dv.fit_transform(X_train)\n",
    "\n",
    "\n",
    "rf = RandomForestClassifier()\n",
    "rf.fit(dv.transform(X_train), y_train)\n",
    "rf.score(dv.transform(X_test), y_test)\n",
    "\n"
   ]
  },
  {
   "cell_type": "code",
   "execution_count": null,
   "metadata": {},
   "outputs": [],
   "source": [
    "sample = ['Nithi', 'Rawit', 'Thamvarut', 'Pasit', 'Peeradon', 'Kittiphop', 'Nigga', 'Aranya', 'Kamon', 'Dao',]\n",
    "transform = dv.transform(features(sample)).toarray()\n",
    "rf.predict(transform)\n",
    "report = classification_report(y_test, rf.predict(dv.transform(X_test)))"
   ]
  },
  {
   "cell_type": "markdown",
   "metadata": {},
   "source": [
    "for pickle"
   ]
  },
  {
   "cell_type": "code",
   "execution_count": null,
   "metadata": {},
   "outputs": [
    {
     "name": "stdout",
     "output_type": "stream",
     "text": [
      "              precision    recall  f1-score   support\n",
      "\n",
      "           f       0.90      0.89      0.89     16170\n",
      "           m       0.82      0.84      0.83      9603\n",
      "\n",
      "    accuracy                           0.87     25773\n",
      "   macro avg       0.86      0.86      0.86     25773\n",
      "weighted avg       0.87      0.87      0.87     25773\n",
      "\n",
      "['m' 'f' 'm' 'm' 'm' 'm']\n"
     ]
    }
   ],
   "source": [
    "import pickle\n",
    "from sklearn.pipeline import FunctionTransformer, Pipeline\n",
    "\n",
    "\n",
    "# df = pd.DataFrame(document)\n",
    "df = df[~df['name'].duplicated(keep=False)]\n",
    "\n",
    "# print(df['name'].value_counts().sort_values())\n",
    "\n",
    "def features(name):\n",
    "    name = str(name).lower()\n",
    "    return {\n",
    "        'first-letter': name[0],\n",
    "        'last-letter': name[-1],\n",
    "        'first2-letter': name[:2],\n",
    "        'last2-letter': name[-2:],\n",
    "        'first3-letter': name[:3],\n",
    "        'last3-letter': name[-3:],\n",
    "        'first4-letter': name[:4],\n",
    "        'last4-letter': name[-4:]\n",
    "    }\n",
    "    \n",
    "X = df['name']\n",
    "y = df['gender']\n",
    "X_train, X_test, y_train, y_test = train_test_split(X,y, test_size=0.2)\n",
    "\n",
    "pipeline = Pipeline([\n",
    "    ('feature_extractor', FunctionTransformer(np.vectorize(features), validate=False)),\n",
    "    ('vectorizer', DictVectorizer()),\n",
    "    ('classifier', MultinomialNB())\n",
    "])\n",
    "\n",
    "pipeline.fit(X_train, y_train)\n",
    "\n",
    "y_pred = pipeline.predict(X_test)\n",
    "print(classification_report(y_test, y_pred))\n",
    "\n",
    "\n",
    "names = ['rawit', 'nithi', 'thamvarut', 'pasit', 'peeradon', 'kittiphop']\n",
    "\n",
    "report = pipeline.predict(names)\n",
    "print(report)\n",
    "\n",
    "with open('name_pipeline.pkl', 'wb') as f:\n",
    "    pickle.dump(pipeline, f)"
   ]
  },
  {
   "cell_type": "code",
   "execution_count": null,
   "metadata": {},
   "outputs": [
    {
     "name": "stdout",
     "output_type": "stream",
     "text": [
      "['m' 'f' 'm' 'm' 'm' 'm']\n"
     ]
    }
   ],
   "source": [
    "with open('name_pipeline.pkl', 'rb') as f:\n",
    "    load_pipe = pickle.load(f)\n",
    "    \n",
    "names = ['rawit', 'nithi', 'thamvarut', 'pasit', 'peeradon', 'kittiphop']\n",
    "\n",
    "report = load_pipe.predict(names)\n",
    "print(report)"
   ]
  },
  {
   "cell_type": "code",
   "execution_count": 207,
   "metadata": {},
   "outputs": [
    {
     "data": {
      "text/plain": [
       "(128862, 2)"
      ]
     },
     "execution_count": 207,
     "metadata": {},
     "output_type": "execute_result"
    }
   ],
   "source": [
    "df.shape"
   ]
  }
 ],
 "metadata": {
  "kernelspec": {
   "display_name": "dsde-cedt",
   "language": "python",
   "name": "python3"
  },
  "language_info": {
   "codemirror_mode": {
    "name": "ipython",
    "version": 3
   },
   "file_extension": ".py",
   "mimetype": "text/x-python",
   "name": "python",
   "nbconvert_exporter": "python",
   "pygments_lexer": "ipython3",
   "version": "3.12.7"
  }
 },
 "nbformat": 4,
 "nbformat_minor": 2
}
